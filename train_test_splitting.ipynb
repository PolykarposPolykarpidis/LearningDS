{
 "cells": [
  {
   "cell_type": "code",
   "execution_count": 71,
   "metadata": {},
   "outputs": [],
   "source": [
    "import numpy as np\n",
    "\n",
    "DATASET_SIZE = 20"
   ]
  },
  {
   "cell_type": "code",
   "execution_count": 74,
   "metadata": {},
   "outputs": [
    {
     "data": {
      "text/plain": [
       "array([0, 1, 0, 0, 0, 1, 0, 0, 0, 1, 0, 0, 0, 0, 1, 0, 1, 1, 1, 0])"
      ]
     },
     "execution_count": 74,
     "metadata": {},
     "output_type": "execute_result"
    }
   ],
   "source": [
    "# np.random.seed(42)\n",
    "# X = np.random.randint(DATASET_SIZE,size=DATASET_SIZE)\n",
    "\n",
    "X = list(range(DATASET_SIZE))\n",
    "\n",
    "np.random.seed(42)\n",
    "y = np.random.randint(2, size=DATASET_SIZE)\n",
    "y"
   ]
  },
  {
   "cell_type": "code",
   "execution_count": 102,
   "metadata": {},
   "outputs": [
    {
     "name": "stdout",
     "output_type": "stream",
     "text": [
      "train_index\n",
      "[19  5  1 11 17  2  0 14  6  3 10 16 15  7 18 12]\n",
      "test_index\n",
      "[13  9  8  4]\n",
      "\n",
      "\n",
      "\n",
      "train_index\n",
      "[17  1  5 18 16  9 12 10  7 19  6  0  2 13  4 11]\n",
      "test_index\n",
      "[ 8  3 14 15]\n",
      "\n",
      "\n",
      "\n",
      "train_index\n",
      "[ 3 19 10  8  0 11 18 15 14  6  5  1  9 17 13 12]\n",
      "test_index\n",
      "[16  7  2  4]\n",
      "\n",
      "\n",
      "\n"
     ]
    }
   ],
   "source": [
    "from sklearn.model_selection import StratifiedShuffleSplit\n",
    "stratidied_splitter1 = StratifiedShuffleSplit(n_splits=3, test_size=0.2, random_state=42)\n",
    "\n",
    "for train_index , test_index in stratidied_splitter1.split(X, y):\n",
    "    print('train_index')\n",
    "    print(train_index)\n",
    "    print('test_index')\n",
    "    print(test_index)\n",
    "    print('\\n\\n')\n"
   ]
  },
  {
   "cell_type": "code",
   "execution_count": 95,
   "metadata": {},
   "outputs": [],
   "source": [
    "from sklearn.model_selection import StratifiedKFold\n",
    "stratidied_splitter2 = StratifiedKFold(n_splits=3, shuffle=True, random_state=42)"
   ]
  },
  {
   "cell_type": "code",
   "execution_count": 99,
   "metadata": {},
   "outputs": [
    {
     "name": "stdout",
     "output_type": "stream",
     "text": [
      "train_index\n",
      "[ 0  2  4  5  6  9 10 12 13 16 17 18 19]\n",
      "test_index\n",
      "[ 1  3  7  8 11 14 15]\n",
      "\n",
      "\n",
      "\n",
      "train_index\n",
      "[ 0  1  2  3  5  7  8 10 11 13 14 15 17]\n",
      "test_index\n",
      "[ 4  6  9 12 16 18 19]\n",
      "\n",
      "\n",
      "\n",
      "train_index\n",
      "[ 1  3  4  6  7  8  9 11 12 14 15 16 18 19]\n",
      "test_index\n",
      "[ 0  2  5 10 13 17]\n",
      "\n",
      "\n",
      "\n"
     ]
    }
   ],
   "source": [
    "for train_index , test_index in stratidied_splitter2.split(X, y):\n",
    "    print('train_index')\n",
    "    print(train_index)\n",
    "    print('test_index')\n",
    "    print(test_index)\n",
    "    print('\\n\\n')\n"
   ]
  },
  {
   "cell_type": "code",
   "execution_count": 90,
   "metadata": {},
   "outputs": [],
   "source": [
    "from sklearn.model_selection import StratifiedGroupKFold\n",
    "stratidied_splitter3 = StratifiedKFold(n_splits=3, shuffle=True, random_state=42)"
   ]
  },
  {
   "cell_type": "code",
   "execution_count": 92,
   "metadata": {},
   "outputs": [
    {
     "name": "stdout",
     "output_type": "stream",
     "text": [
      "train_index\n",
      "[ 0  2  4  5  6  9 10 12 13 16 17 18 19]\n",
      "test_index\n",
      "[ 1  3  7  8 11 14 15]\n",
      "\n",
      "\n",
      "\n",
      "train_index\n",
      "[ 0  1  2  3  5  7  8 10 11 13 14 15 17]\n",
      "test_index\n",
      "[ 4  6  9 12 16 18 19]\n",
      "\n",
      "\n",
      "\n",
      "train_index\n",
      "[ 1  3  4  6  7  8  9 11 12 14 15 16 18 19]\n",
      "test_index\n",
      "[ 0  2  5 10 13 17]\n",
      "\n",
      "\n",
      "\n"
     ]
    }
   ],
   "source": [
    "for train_index , test_index in stratidied_splitter3.split(X, y):\n",
    "    print('train_index')\n",
    "    print(train_index)\n",
    "    print('test_index')\n",
    "    print(test_index)\n",
    "    print('\\n\\n')"
   ]
  },
  {
   "cell_type": "code",
   "execution_count": 82,
   "metadata": {},
   "outputs": [],
   "source": [
    "from sklearn.model_selection import RepeatedStratifiedKFold\n",
    "stratidied_splitter4 = RepeatedStratifiedKFold(n_splits=3,n_repeats=4, random_state=42)"
   ]
  },
  {
   "cell_type": "code",
   "execution_count": 83,
   "metadata": {},
   "outputs": [
    {
     "name": "stdout",
     "output_type": "stream",
     "text": [
      "train_index\n",
      "[ 0  2  4  5  6  9 10 12 13 16 17 18 19]\n",
      "test_index\n",
      "[ 1  3  7  8 11 14 15]\n",
      "\n",
      "\n",
      "\n",
      "train_index\n",
      "[ 0  1  2  3  5  7  8 10 11 13 14 15 17]\n",
      "test_index\n",
      "[ 4  6  9 12 16 18 19]\n",
      "\n",
      "\n",
      "\n",
      "train_index\n",
      "[ 1  3  4  6  7  8  9 11 12 14 15 16 18 19]\n",
      "test_index\n",
      "[ 0  2  5 10 13 17]\n",
      "\n",
      "\n",
      "\n",
      "train_index\n",
      "[ 0  2  3  5  6  7  9 10 11 14 15 16 17]\n",
      "test_index\n",
      "[ 1  4  8 12 13 18 19]\n",
      "\n",
      "\n",
      "\n",
      "train_index\n",
      "[ 0  1  4  5  7  8 10 12 13 15 16 18 19]\n",
      "test_index\n",
      "[ 2  3  6  9 11 14 17]\n",
      "\n",
      "\n",
      "\n",
      "train_index\n",
      "[ 1  2  3  4  6  8  9 11 12 13 14 17 18 19]\n",
      "test_index\n",
      "[ 0  5  7 10 15 16]\n",
      "\n",
      "\n",
      "\n",
      "train_index\n",
      "[ 0  1  3  5  6  7  9 10 11 13 15 16 18]\n",
      "test_index\n",
      "[ 2  4  8 12 14 17 19]\n",
      "\n",
      "\n",
      "\n",
      "train_index\n",
      "[ 0  1  2  4  6  8 10 12 14 15 16 17 19]\n",
      "test_index\n",
      "[ 3  5  7  9 11 13 18]\n",
      "\n",
      "\n",
      "\n",
      "train_index\n",
      "[ 2  3  4  5  7  8  9 11 12 13 14 17 18 19]\n",
      "test_index\n",
      "[ 0  1  6 10 15 16]\n",
      "\n",
      "\n",
      "\n",
      "train_index\n",
      "[ 0  1  2  5  6  7  8  9 10 15 16 18 19]\n",
      "test_index\n",
      "[ 3  4 11 12 13 14 17]\n",
      "\n",
      "\n",
      "\n",
      "train_index\n",
      "[ 0  1  2  3  4 10 11 12 13 14 15 17 18]\n",
      "test_index\n",
      "[ 5  6  7  8  9 16 19]\n",
      "\n",
      "\n",
      "\n",
      "train_index\n",
      "[ 3  4  5  6  7  8  9 11 12 13 14 16 17 19]\n",
      "test_index\n",
      "[ 0  1  2 10 15 18]\n",
      "\n",
      "\n",
      "\n"
     ]
    }
   ],
   "source": [
    "for train_index , test_index in stratidied_splitter4.split(X, y):\n",
    "    print('train_index')\n",
    "    print(train_index)\n",
    "    print('test_index')\n",
    "    print(test_index)\n",
    "    print('\\n\\n')"
   ]
  }
 ],
 "metadata": {
  "kernelspec": {
   "display_name": ".venv",
   "language": "python",
   "name": "python3"
  },
  "language_info": {
   "codemirror_mode": {
    "name": "ipython",
    "version": 3
   },
   "file_extension": ".py",
   "mimetype": "text/x-python",
   "name": "python",
   "nbconvert_exporter": "python",
   "pygments_lexer": "ipython3",
   "version": "3.11.2"
  }
 },
 "nbformat": 4,
 "nbformat_minor": 2
}
