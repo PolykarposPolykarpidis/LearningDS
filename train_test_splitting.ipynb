{
 "cells": [
  {
   "cell_type": "markdown",
   "metadata": {},
   "source": [
    "# Create small dataset"
   ]
  },
  {
   "cell_type": "code",
   "execution_count": 21,
   "metadata": {},
   "outputs": [],
   "source": [
    "import numpy as np\n",
    "\n",
    "DATASET_SIZE = 20\n",
    "RANDOM_STATE = 42\n",
    "\n",
    "X = list(range(DATASET_SIZE))\n",
    "np.random.seed(42)\n",
    "y = np.random.randint(2, size=DATASET_SIZE)"
   ]
  },
  {
   "cell_type": "markdown",
   "metadata": {},
   "source": [
    "# Spliting techniques\n",
    "\n",
    "The simplest technique to split a data set since we have shuffle it, firstly."
   ]
  },
  {
   "cell_type": "code",
   "execution_count": 22,
   "metadata": {},
   "outputs": [
    {
     "name": "stdout",
     "output_type": "stream",
     "text": [
      "X_train: [8, 5, 11, 3, 18, 16, 13, 2, 9, 19, 4, 12, 7, 10, 14, 6]\n",
      "X_test: [0, 17, 15, 1]\n",
      "y_train: [0 1 0 0 1 1 0 0 1 0 0 0 0 0 1 0]\n",
      "y_test: [0 1 0 1]\n"
     ]
    }
   ],
   "source": [
    "from sklearn.model_selection import train_test_split\n",
    "X_train, X_test, y_train, y_test = train_test_split(X, y, shuffle=True, test_size=0.2, random_state=RANDOM_STATE)\n",
    "\n",
    "print('X_train:',X_train)\n",
    "print('X_test:',X_test)\n",
    "print('y_train:',y_train)\n",
    "print('y_test:',y_test)\n"
   ]
  },
  {
   "cell_type": "markdown",
   "metadata": {},
   "source": [
    "# Cross validation using Stratified spliting technique"
   ]
  },
  {
   "cell_type": "markdown",
   "metadata": {},
   "source": [
    "## klearn.model_selection.StratifiedShuffleSplit\n",
    "\n",
    "if you want to take n times shuffled and with the same analogy in terms of target's categories thry the follow one:"
   ]
  },
  {
   "cell_type": "code",
   "execution_count": 16,
   "metadata": {},
   "outputs": [
    {
     "name": "stdout",
     "output_type": "stream",
     "text": [
      "train_index\n",
      "[19  5  1 11 17  2  0 14  6  3 10 16 15  7 18 12]\n",
      "test_index\n",
      "[13  9  8  4]\n",
      "\n",
      "\n",
      "\n",
      "train_index\n",
      "[17  1  5 18 16  9 12 10  7 19  6  0  2 13  4 11]\n",
      "test_index\n",
      "[ 8  3 14 15]\n",
      "\n",
      "\n",
      "\n",
      "train_index\n",
      "[ 3 19 10  8  0 11 18 15 14  6  5  1  9 17 13 12]\n",
      "test_index\n",
      "[16  7  2  4]\n",
      "\n",
      "\n",
      "\n"
     ]
    }
   ],
   "source": [
    "from sklearn.model_selection import StratifiedShuffleSplit\n",
    "stratidied_splitter1 = StratifiedShuffleSplit(n_splits=3, test_size=0.2, random_state=RANDOM_STATE)\n",
    "\n",
    "for train_index , test_index in stratidied_splitter1.split(X, y):\n",
    "    print('train_index')\n",
    "    print(train_index)\n",
    "    print('test_index')\n",
    "    print(test_index)\n",
    "    print('\\n\\n')\n"
   ]
  },
  {
   "cell_type": "code",
   "execution_count": 17,
   "metadata": {},
   "outputs": [
    {
     "name": "stdout",
     "output_type": "stream",
     "text": [
      "train_index\n",
      "[ 0  2  4  5  6  9 10 12 13 16 17 18 19]\n",
      "test_index\n",
      "[ 1  3  7  8 11 14 15]\n",
      "\n",
      "\n",
      "\n",
      "train_index\n",
      "[ 0  1  2  3  5  7  8 10 11 13 14 15 17]\n",
      "test_index\n",
      "[ 4  6  9 12 16 18 19]\n",
      "\n",
      "\n",
      "\n",
      "train_index\n",
      "[ 1  3  4  6  7  8  9 11 12 14 15 16 18 19]\n",
      "test_index\n",
      "[ 0  2  5 10 13 17]\n",
      "\n",
      "\n",
      "\n"
     ]
    }
   ],
   "source": [
    "from sklearn.model_selection import StratifiedKFold\n",
    "stratidied_splitter2 = StratifiedKFold(n_splits=3, shuffle=True, random_state=RANDOM_STATE)\n",
    "\n",
    "for train_index , test_index in stratidied_splitter2.split(X, y):\n",
    "    print('train_index')\n",
    "    print(train_index)\n",
    "    print('test_index')\n",
    "    print(test_index)\n",
    "    print('\\n\\n')"
   ]
  },
  {
   "cell_type": "code",
   "execution_count": 18,
   "metadata": {},
   "outputs": [
    {
     "name": "stdout",
     "output_type": "stream",
     "text": [
      "train_index\n",
      "[ 0  2  4  5  6  9 10 12 13 16 17 18 19]\n",
      "test_index\n",
      "[ 1  3  7  8 11 14 15]\n",
      "\n",
      "\n",
      "\n",
      "train_index\n",
      "[ 0  1  2  3  5  7  8 10 11 13 14 15 17]\n",
      "test_index\n",
      "[ 4  6  9 12 16 18 19]\n",
      "\n",
      "\n",
      "\n",
      "train_index\n",
      "[ 1  3  4  6  7  8  9 11 12 14 15 16 18 19]\n",
      "test_index\n",
      "[ 0  2  5 10 13 17]\n",
      "\n",
      "\n",
      "\n"
     ]
    }
   ],
   "source": [
    "from sklearn.model_selection import StratifiedGroupKFold\n",
    "stratidied_splitter3 = StratifiedKFold(n_splits=3, shuffle=True, random_state=RANDOM_STATE)\n",
    "\n",
    "for train_index , test_index in stratidied_splitter3.split(X, y):\n",
    "    print('train_index')\n",
    "    print(train_index)\n",
    "    print('test_index')\n",
    "    print(test_index)\n",
    "    print('\\n\\n')"
   ]
  },
  {
   "cell_type": "code",
   "execution_count": 19,
   "metadata": {},
   "outputs": [
    {
     "name": "stdout",
     "output_type": "stream",
     "text": [
      "train_index\n",
      "[ 0  2  4  5  6  9 10 12 13 16 17 18 19]\n",
      "test_index\n",
      "[ 1  3  7  8 11 14 15]\n",
      "\n",
      "\n",
      "\n",
      "train_index\n",
      "[ 0  1  2  3  5  7  8 10 11 13 14 15 17]\n",
      "test_index\n",
      "[ 4  6  9 12 16 18 19]\n",
      "\n",
      "\n",
      "\n",
      "train_index\n",
      "[ 1  3  4  6  7  8  9 11 12 14 15 16 18 19]\n",
      "test_index\n",
      "[ 0  2  5 10 13 17]\n",
      "\n",
      "\n",
      "\n",
      "train_index\n",
      "[ 0  2  3  5  6  7  9 10 11 14 15 16 17]\n",
      "test_index\n",
      "[ 1  4  8 12 13 18 19]\n",
      "\n",
      "\n",
      "\n",
      "train_index\n",
      "[ 0  1  4  5  7  8 10 12 13 15 16 18 19]\n",
      "test_index\n",
      "[ 2  3  6  9 11 14 17]\n",
      "\n",
      "\n",
      "\n",
      "train_index\n",
      "[ 1  2  3  4  6  8  9 11 12 13 14 17 18 19]\n",
      "test_index\n",
      "[ 0  5  7 10 15 16]\n",
      "\n",
      "\n",
      "\n",
      "train_index\n",
      "[ 0  1  3  5  6  7  9 10 11 13 15 16 18]\n",
      "test_index\n",
      "[ 2  4  8 12 14 17 19]\n",
      "\n",
      "\n",
      "\n",
      "train_index\n",
      "[ 0  1  2  4  6  8 10 12 14 15 16 17 19]\n",
      "test_index\n",
      "[ 3  5  7  9 11 13 18]\n",
      "\n",
      "\n",
      "\n",
      "train_index\n",
      "[ 2  3  4  5  7  8  9 11 12 13 14 17 18 19]\n",
      "test_index\n",
      "[ 0  1  6 10 15 16]\n",
      "\n",
      "\n",
      "\n",
      "train_index\n",
      "[ 0  1  2  5  6  7  8  9 10 15 16 18 19]\n",
      "test_index\n",
      "[ 3  4 11 12 13 14 17]\n",
      "\n",
      "\n",
      "\n",
      "train_index\n",
      "[ 0  1  2  3  4 10 11 12 13 14 15 17 18]\n",
      "test_index\n",
      "[ 5  6  7  8  9 16 19]\n",
      "\n",
      "\n",
      "\n",
      "train_index\n",
      "[ 3  4  5  6  7  8  9 11 12 13 14 16 17 19]\n",
      "test_index\n",
      "[ 0  1  2 10 15 18]\n",
      "\n",
      "\n",
      "\n"
     ]
    }
   ],
   "source": [
    "from sklearn.model_selection import RepeatedStratifiedKFold\n",
    "stratidied_splitter4 = RepeatedStratifiedKFold(n_splits=3,n_repeats=4, random_state=RANDOM_STATE)\n",
    "\n",
    "for train_index , test_index in stratidied_splitter4.split(X, y):\n",
    "    print('train_index')\n",
    "    print(train_index)\n",
    "    print('test_index')\n",
    "    print(test_index)\n",
    "    print('\\n\\n')"
   ]
  }
 ],
 "metadata": {
  "kernelspec": {
   "display_name": ".venv",
   "language": "python",
   "name": "python3"
  },
  "language_info": {
   "codemirror_mode": {
    "name": "ipython",
    "version": 3
   },
   "file_extension": ".py",
   "mimetype": "text/x-python",
   "name": "python",
   "nbconvert_exporter": "python",
   "pygments_lexer": "ipython3",
   "version": "3.11.2"
  }
 },
 "nbformat": 4,
 "nbformat_minor": 2
}
